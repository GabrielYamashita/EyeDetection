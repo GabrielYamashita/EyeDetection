{
 "cells": [
  {
   "cell_type": "code",
   "execution_count": 9,
   "metadata": {},
   "outputs": [],
   "source": [
    "import cv2 as cv \n",
    "import numpy as np\n",
    "import mediapipe as mp \n",
    "from eye_contour import *\n",
    "\n",
    "mp_face_mesh = mp.solutions.face_mesh"
   ]
  },
  {
   "cell_type": "code",
   "execution_count": 10,
   "metadata": {},
   "outputs": [],
   "source": [
    "# Colors to use (maybe use from another file)\n",
    "GREEN = (0,255,0)\n",
    "\n",
    "# left eyes indices\n",
    "LEFT_EYE =[ 362, 382, 381, 380, 374, 373, 390, 249, 263, 466, 388, 387, 386, 385,384, 398 ]\n",
    "\n",
    "# right eyes indices\n",
    "RIGHT_EYE=[ 33, 7, 163, 144, 145, 153, 154, 155, 133, 173, 157, 158, 159, 160, 161 , 246 ] \n",
    "\n",
    "# irises Indices list\n",
    "LEFT_IRIS = [474,475, 476, 477]\n",
    "RIGHT_IRIS = [469, 470, 471, 472]"
   ]
  },
  {
   "cell_type": "code",
   "execution_count": 11,
   "metadata": {},
   "outputs": [],
   "source": [
    "cap = cv.VideoCapture(0)\n",
    "\n",
    "with mp_face_mesh.FaceMesh(\n",
    "    max_num_faces=3,\n",
    "    refine_landmarks=True,\n",
    "    min_detection_confidence=0.65,\n",
    "    min_tracking_confidence=0.65\n",
    ") as face_mesh:\n",
    "\n",
    "    while True:\n",
    "        ret, frame = cap.read()\n",
    "        if not ret:\n",
    "            break\n",
    "        frame = cv.flip(frame, 1)\n",
    "\n",
    "        rgb_frame = cv.cvtColor(frame, cv.COLOR_BGR2RGB)\n",
    "        img_h, img_w = frame.shape[:2]\n",
    "        results = face_mesh.process(rgb_frame)\n",
    "        mask = np.zeros((img_h, img_w), dtype=np.uint8)\n",
    "\n",
    "        if results.multi_face_landmarks:\n",
    "            # print((results.multi_face_landmarks[0]))\n",
    "\n",
    "            # [print(p.x, p.y, p.z ) for p in results.multi_face_landmarks[0].landmark]\n",
    "            \n",
    "            mesh_points=np.array([np.multiply([p.x, p.y], [img_w, img_h]).astype(int) \n",
    "            for p in results.multi_face_landmarks[0].landmark])\n",
    "\n",
    "            mesh_coords = landmarksDetection(frame, results, False)\n",
    "            \n",
    "            cv.polylines(frame, [mesh_points[LEFT_IRIS]], True, (0,255,0), 1, cv.LINE_AA)\n",
    "            cv.polylines(frame, [mesh_points[RIGHT_IRIS]], True, (0,255,0), 1, cv.LINE_AA)\n",
    "            \n",
    "            (l_cx, l_cy), l_radius = cv.minEnclosingCircle(mesh_points[LEFT_IRIS])\n",
    "            (r_cx, r_cy), r_radius = cv.minEnclosingCircle(mesh_points[RIGHT_IRIS])\n",
    "            \n",
    "            center_left = np.array([l_cx, l_cy], dtype=np.int32)\n",
    "            center_right = np.array([r_cx, r_cy], dtype=np.int32)\n",
    "\n",
    "            cv.circle(frame, center_left, int(l_radius), (180,240,10), 1, cv.LINE_AA)\n",
    "            cv.circle(frame, center_right, int(r_radius), (245,170,20), 1, cv.LINE_AA)\n",
    "\n",
    "            cv.circle(frame, center_left, 1, (255,0,0), -1, cv.LINE_AA)\n",
    "            cv.circle(frame, center_right, 1, (255,0,0), -1, cv.LINE_AA)\n",
    "\n",
    "            # drawing on the mask \n",
    "            cv.circle(mask, center_left, int(l_radius), (255,255,255), -1, cv.LINE_AA)\n",
    "            cv.circle(mask, center_right, int(r_radius), (255,255,255), -1, cv.LINE_AA)\n",
    "\n",
    "            # -----------------------------------------------------------------------------------\n",
    "            # Contour \n",
    "\n",
    "            # Mask\n",
    "            left_coords = [mesh_coords[p] for p in LEFT_EYE]\n",
    "            right_coords = [mesh_coords[p] for p in RIGHT_EYE]\n",
    "            crop_right, crop_left = eye_contour(frame, right_coords, left_coords)\n",
    "            \n",
    "            cv.polylines(frame,  [np.array([mesh_coords[p] for p in LEFT_EYE ], dtype=np.int32)], True, GREEN, 1, cv.LINE_AA)\n",
    "            cv.polylines(frame,  [np.array([mesh_coords[p] for p in RIGHT_EYE ], dtype=np.int32)], True, GREEN, 1, cv.LINE_AA)\n",
    "            # -----------------------------------------------------------------------------------\n",
    "          \n",
    "        # cv.imshow('Mask_pupil', mask)     \n",
    "        cv.imshow('img', frame)\n",
    "        key = cv.waitKey(1)\n",
    "        if key == ord('q'): # off pressing \"q\"\n",
    "            break\n",
    "\n",
    "cap.release()\n",
    "cv.destroyAllWindows()"
   ]
  },
  {
   "cell_type": "code",
   "execution_count": null,
   "metadata": {},
   "outputs": [],
   "source": []
  }
 ],
 "metadata": {
  "kernelspec": {
   "display_name": "Python 3.9.4 64-bit",
   "language": "python",
   "name": "python3"
  },
  "language_info": {
   "codemirror_mode": {
    "name": "ipython",
    "version": 3
   },
   "file_extension": ".py",
   "mimetype": "text/x-python",
   "name": "python",
   "nbconvert_exporter": "python",
   "pygments_lexer": "ipython3",
   "version": "3.9.4"
  },
  "orig_nbformat": 4,
  "vscode": {
   "interpreter": {
    "hash": "cf92aa13fedf815d5c8dd192b8d835913fde3e8bc926b2a0ad6cc74ef2ba3ca2"
   }
  }
 },
 "nbformat": 4,
 "nbformat_minor": 2
}
